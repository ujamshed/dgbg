{
 "cells": [
  {
   "cell_type": "code",
   "execution_count": 84,
   "id": "381258c7",
   "metadata": {},
   "outputs": [],
   "source": [
    "from dbg import dbg\n",
    "import numpy as np"
   ]
  },
  {
   "cell_type": "code",
   "execution_count": 85,
   "id": "551c4425",
   "metadata": {},
   "outputs": [],
   "source": [
    "box = binding_box('pdb_files/8dz9.pdb')"
   ]
  },
  {
   "cell_type": "code",
   "execution_count": 86,
   "id": "71aa5bb7",
   "metadata": {},
   "outputs": [],
   "source": [
    "ligand_data = box.get_ligand_data('4WI', 'A')"
   ]
  },
  {
   "cell_type": "code",
   "execution_count": 87,
   "id": "56fa1ab5",
   "metadata": {},
   "outputs": [
    {
     "data": {
      "text/html": [
       "<div>\n",
       "<style scoped>\n",
       "    .dataframe tbody tr th:only-of-type {\n",
       "        vertical-align: middle;\n",
       "    }\n",
       "\n",
       "    .dataframe tbody tr th {\n",
       "        vertical-align: top;\n",
       "    }\n",
       "\n",
       "    .dataframe thead th {\n",
       "        text-align: right;\n",
       "    }\n",
       "</style>\n",
       "<table border=\"1\" class=\"dataframe\">\n",
       "  <thead>\n",
       "    <tr style=\"text-align: right;\">\n",
       "      <th></th>\n",
       "      <th>TYPE</th>\n",
       "      <th>SERIAL_NUM</th>\n",
       "      <th>ELEMENT</th>\n",
       "      <th>AA</th>\n",
       "      <th>CHAIN_ID</th>\n",
       "      <th>RESIDUE_NUM</th>\n",
       "      <th>X_COOR</th>\n",
       "      <th>Y_COOR</th>\n",
       "      <th>Z_COOR</th>\n",
       "      <th>OCCUPANCY</th>\n",
       "      <th>TEMP_FACTOR</th>\n",
       "      <th>ELEMENT</th>\n",
       "    </tr>\n",
       "  </thead>\n",
       "  <tbody>\n",
       "    <tr>\n",
       "      <th>18550</th>\n",
       "      <td>HETATM</td>\n",
       "      <td>18555</td>\n",
       "      <td>C8</td>\n",
       "      <td>4WI</td>\n",
       "      <td>A</td>\n",
       "      <td>401</td>\n",
       "      <td>-32.945</td>\n",
       "      <td>-24.877</td>\n",
       "      <td>-55.202</td>\n",
       "      <td>1.00</td>\n",
       "      <td>14.53</td>\n",
       "      <td>C0</td>\n",
       "    </tr>\n",
       "    <tr>\n",
       "      <th>18551</th>\n",
       "      <td>HETATM</td>\n",
       "      <td>18556</td>\n",
       "      <td>C3</td>\n",
       "      <td>4WI</td>\n",
       "      <td>A</td>\n",
       "      <td>401</td>\n",
       "      <td>-37.238</td>\n",
       "      <td>-26.406</td>\n",
       "      <td>-53.165</td>\n",
       "      <td>1.00</td>\n",
       "      <td>18.10</td>\n",
       "      <td>C0</td>\n",
       "    </tr>\n",
       "    <tr>\n",
       "      <th>18552</th>\n",
       "      <td>HETATM</td>\n",
       "      <td>18557</td>\n",
       "      <td>C1</td>\n",
       "      <td>4WI</td>\n",
       "      <td>A</td>\n",
       "      <td>401</td>\n",
       "      <td>-37.503</td>\n",
       "      <td>-23.337</td>\n",
       "      <td>-54.441</td>\n",
       "      <td>1.00</td>\n",
       "      <td>17.21</td>\n",
       "      <td>C0</td>\n",
       "    </tr>\n",
       "    <tr>\n",
       "      <th>18553</th>\n",
       "      <td>HETATM</td>\n",
       "      <td>18558</td>\n",
       "      <td>C13</td>\n",
       "      <td>4WI</td>\n",
       "      <td>A</td>\n",
       "      <td>401</td>\n",
       "      <td>-36.128</td>\n",
       "      <td>-20.859</td>\n",
       "      <td>-55.606</td>\n",
       "      <td>1.00</td>\n",
       "      <td>18.39</td>\n",
       "      <td>C0</td>\n",
       "    </tr>\n",
       "    <tr>\n",
       "      <th>18554</th>\n",
       "      <td>HETATM</td>\n",
       "      <td>18559</td>\n",
       "      <td>C21</td>\n",
       "      <td>4WI</td>\n",
       "      <td>A</td>\n",
       "      <td>401</td>\n",
       "      <td>-35.685</td>\n",
       "      <td>-17.651</td>\n",
       "      <td>-56.396</td>\n",
       "      <td>1.00</td>\n",
       "      <td>23.16</td>\n",
       "      <td>C0</td>\n",
       "    </tr>\n",
       "    <tr>\n",
       "      <th>...</th>\n",
       "      <td>...</td>\n",
       "      <td>...</td>\n",
       "      <td>...</td>\n",
       "      <td>...</td>\n",
       "      <td>...</td>\n",
       "      <td>...</td>\n",
       "      <td>...</td>\n",
       "      <td>...</td>\n",
       "      <td>...</td>\n",
       "      <td>...</td>\n",
       "      <td>...</td>\n",
       "      <td>...</td>\n",
       "    </tr>\n",
       "    <tr>\n",
       "      <th>18613</th>\n",
       "      <td>HETATM</td>\n",
       "      <td>18618</td>\n",
       "      <td>H15</td>\n",
       "      <td>4WI</td>\n",
       "      <td>A</td>\n",
       "      <td>401</td>\n",
       "      <td>-36.997</td>\n",
       "      <td>-19.621</td>\n",
       "      <td>-56.999</td>\n",
       "      <td>1.00</td>\n",
       "      <td>19.89</td>\n",
       "      <td>H0</td>\n",
       "    </tr>\n",
       "    <tr>\n",
       "      <th>18614</th>\n",
       "      <td>HETATM</td>\n",
       "      <td>18619</td>\n",
       "      <td>H36</td>\n",
       "      <td>4WI</td>\n",
       "      <td>A</td>\n",
       "      <td>401</td>\n",
       "      <td>-38.759</td>\n",
       "      <td>-27.676</td>\n",
       "      <td>-53.092</td>\n",
       "      <td>0.00</td>\n",
       "      <td>23.31</td>\n",
       "      <td>H0</td>\n",
       "    </tr>\n",
       "    <tr>\n",
       "      <th>18615</th>\n",
       "      <td>HETATM</td>\n",
       "      <td>18620</td>\n",
       "      <td>H9</td>\n",
       "      <td>4WI</td>\n",
       "      <td>A</td>\n",
       "      <td>401</td>\n",
       "      <td>-31.450</td>\n",
       "      <td>-25.383</td>\n",
       "      <td>-56.294</td>\n",
       "      <td>1.00</td>\n",
       "      <td>14.95</td>\n",
       "      <td>H0</td>\n",
       "    </tr>\n",
       "    <tr>\n",
       "      <th>18616</th>\n",
       "      <td>HETATM</td>\n",
       "      <td>18621</td>\n",
       "      <td>H1</td>\n",
       "      <td>4WI</td>\n",
       "      <td>A</td>\n",
       "      <td>401</td>\n",
       "      <td>-36.572</td>\n",
       "      <td>-24.094</td>\n",
       "      <td>-52.963</td>\n",
       "      <td>1.00</td>\n",
       "      <td>17.68</td>\n",
       "      <td>H0</td>\n",
       "    </tr>\n",
       "    <tr>\n",
       "      <th>18617</th>\n",
       "      <td>HETATM</td>\n",
       "      <td>18622</td>\n",
       "      <td>H16</td>\n",
       "      <td>4WI</td>\n",
       "      <td>A</td>\n",
       "      <td>401</td>\n",
       "      <td>-34.338</td>\n",
       "      <td>-18.987</td>\n",
       "      <td>-56.618</td>\n",
       "      <td>1.00</td>\n",
       "      <td>21.56</td>\n",
       "      <td>H0</td>\n",
       "    </tr>\n",
       "  </tbody>\n",
       "</table>\n",
       "<p>68 rows × 12 columns</p>\n",
       "</div>"
      ],
      "text/plain": [
       "         TYPE SERIAL_NUM ELEMENT   AA CHAIN_ID RESIDUE_NUM  X_COOR  Y_COOR  \\\n",
       "18550  HETATM      18555      C8  4WI        A         401 -32.945 -24.877   \n",
       "18551  HETATM      18556      C3  4WI        A         401 -37.238 -26.406   \n",
       "18552  HETATM      18557      C1  4WI        A         401 -37.503 -23.337   \n",
       "18553  HETATM      18558     C13  4WI        A         401 -36.128 -20.859   \n",
       "18554  HETATM      18559     C21  4WI        A         401 -35.685 -17.651   \n",
       "...       ...        ...     ...  ...      ...         ...     ...     ...   \n",
       "18613  HETATM      18618     H15  4WI        A         401 -36.997 -19.621   \n",
       "18614  HETATM      18619     H36  4WI        A         401 -38.759 -27.676   \n",
       "18615  HETATM      18620      H9  4WI        A         401 -31.450 -25.383   \n",
       "18616  HETATM      18621      H1  4WI        A         401 -36.572 -24.094   \n",
       "18617  HETATM      18622     H16  4WI        A         401 -34.338 -18.987   \n",
       "\n",
       "       Z_COOR OCCUPANCY TEMP_FACTOR ELEMENT  \n",
       "18550 -55.202      1.00       14.53      C0  \n",
       "18551 -53.165      1.00       18.10      C0  \n",
       "18552 -54.441      1.00       17.21      C0  \n",
       "18553 -55.606      1.00       18.39      C0  \n",
       "18554 -56.396      1.00       23.16      C0  \n",
       "...       ...       ...         ...     ...  \n",
       "18613 -56.999      1.00       19.89      H0  \n",
       "18614 -53.092      0.00       23.31      H0  \n",
       "18615 -56.294      1.00       14.95      H0  \n",
       "18616 -52.963      1.00       17.68      H0  \n",
       "18617 -56.618      1.00       21.56      H0  \n",
       "\n",
       "[68 rows x 12 columns]"
      ]
     },
     "execution_count": 87,
     "metadata": {},
     "output_type": "execute_result"
    }
   ],
   "source": [
    "ligand_data"
   ]
  },
  {
   "cell_type": "code",
   "execution_count": 88,
   "id": "5223ccc1",
   "metadata": {},
   "outputs": [],
   "source": [
    "centroid, box_size = box.create_box(spacing=0.375, padding=np.array([0, 0, 0]))"
   ]
  },
  {
   "cell_type": "code",
   "execution_count": 89,
   "id": "30a0252d",
   "metadata": {},
   "outputs": [
    {
     "data": {
      "text/plain": [
       "array([25., 32., 23.])"
      ]
     },
     "execution_count": 89,
     "metadata": {},
     "output_type": "execute_result"
    }
   ],
   "source": [
    "box_size"
   ]
  },
  {
   "cell_type": "code",
   "execution_count": 90,
   "id": "c6d06ff9",
   "metadata": {},
   "outputs": [
    {
     "data": {
      "text/plain": [
       "array([-36.33763235, -21.85095588, -55.56345588])"
      ]
     },
     "execution_count": 90,
     "metadata": {},
     "output_type": "execute_result"
    }
   ],
   "source": [
    "centroid"
   ]
  },
  {
   "cell_type": "code",
   "execution_count": 91,
   "id": "399ff712",
   "metadata": {},
   "outputs": [],
   "source": [
    "result = box.show_result(centroid, box_size)"
   ]
  },
  {
   "cell_type": "code",
   "execution_count": 92,
   "id": "dc1046a7",
   "metadata": {},
   "outputs": [
    {
     "data": {
      "application/vnd.jupyter.widget-view+json": {
       "model_id": "7124daee76024c9bafab45d54327d3c2",
       "version_major": 2,
       "version_minor": 0
      },
      "text/plain": [
       "NGLWidget()"
      ]
     },
     "metadata": {},
     "output_type": "display_data"
    }
   ],
   "source": [
    "result"
   ]
  },
  {
   "cell_type": "code",
   "execution_count": null,
   "id": "59b80a8d",
   "metadata": {},
   "outputs": [],
   "source": []
  }
 ],
 "metadata": {
  "kernelspec": {
   "display_name": "Python 3 (ipykernel)",
   "language": "python",
   "name": "python3"
  },
  "language_info": {
   "codemirror_mode": {
    "name": "ipython",
    "version": 3
   },
   "file_extension": ".py",
   "mimetype": "text/x-python",
   "name": "python",
   "nbconvert_exporter": "python",
   "pygments_lexer": "ipython3",
   "version": "3.9.7"
  }
 },
 "nbformat": 4,
 "nbformat_minor": 5
}
