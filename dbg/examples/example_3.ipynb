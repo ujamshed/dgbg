{
 "cells": [
  {
   "cell_type": "markdown",
   "id": "4b88d19f",
   "metadata": {},
   "source": [
    "## This example should highlight using box_size and centroid from the library and then using autodock vina directly from jupyternotebook to get your results."
   ]
  },
  {
   "cell_type": "code",
   "execution_count": 1,
   "id": "da0f0c34",
   "metadata": {},
   "outputs": [
    {
     "name": "stderr",
     "output_type": "stream",
     "text": [
      "Warning: importing 'simtk.openmm' is deprecated.  Import 'openmm' instead.\n"
     ]
    },
    {
     "data": {
      "application/vnd.jupyter.widget-view+json": {
       "model_id": "31e0c5ebcf984b47b1c06c84075acab4",
       "version_major": 2,
       "version_minor": 0
      },
      "text/plain": []
     },
     "metadata": {},
     "output_type": "display_data"
    }
   ],
   "source": [
    "from dbg import dbg\n",
    "import numpy as np\n",
    "from vina import Vina"
   ]
  },
  {
   "cell_type": "code",
   "execution_count": 2,
   "id": "551c4425",
   "metadata": {},
   "outputs": [],
   "source": [
    "box = dbg.binding_box('pdb_files/1iep.pdb')"
   ]
  },
  {
   "cell_type": "code",
   "execution_count": 3,
   "id": "71aa5bb7",
   "metadata": {},
   "outputs": [],
   "source": [
    "ligand_data = box.get_ligand_data('STI', 'A')"
   ]
  },
  {
   "cell_type": "code",
   "execution_count": 4,
   "id": "5223ccc1",
   "metadata": {},
   "outputs": [],
   "source": [
    "centroid, box_size = box.create_box(spacing=0.375, padding=np.array([10, 5, 5]))"
   ]
  },
  {
   "cell_type": "code",
   "execution_count": 5,
   "id": "30a0252d",
   "metadata": {},
   "outputs": [
    {
     "data": {
      "text/plain": [
       "array([33., 49., 41.])"
      ]
     },
     "execution_count": 5,
     "metadata": {},
     "output_type": "execute_result"
    }
   ],
   "source": [
    "box_size"
   ]
  },
  {
   "cell_type": "code",
   "execution_count": 6,
   "id": "c6d06ff9",
   "metadata": {},
   "outputs": [
    {
     "data": {
      "text/plain": [
       "array([15.61389189, 53.38013514, 15.45483784])"
      ]
     },
     "execution_count": 6,
     "metadata": {},
     "output_type": "execute_result"
    }
   ],
   "source": [
    "centroid"
   ]
  },
  {
   "cell_type": "code",
   "execution_count": 7,
   "id": "399ff712",
   "metadata": {},
   "outputs": [],
   "source": [
    "result = box.show_result(centroid, box_size)"
   ]
  },
  {
   "cell_type": "code",
   "execution_count": 8,
   "id": "dc1046a7",
   "metadata": {},
   "outputs": [
    {
     "data": {
      "application/vnd.jupyter.widget-view+json": {
       "model_id": "230fb9a8537b49dcb77c696dc43629d2",
       "version_major": 2,
       "version_minor": 0
      },
      "text/plain": [
       "NGLWidget()"
      ]
     },
     "metadata": {},
     "output_type": "display_data"
    }
   ],
   "source": [
    "result"
   ]
  },
  {
   "cell_type": "code",
   "execution_count": 9,
   "id": "b145894b",
   "metadata": {},
   "outputs": [],
   "source": [
    "v = Vina(sf_name='vina')"
   ]
  },
  {
   "cell_type": "code",
   "execution_count": 10,
   "id": "d19b3454",
   "metadata": {},
   "outputs": [],
   "source": [
    "v.set_receptor('pdbqt_files/1iep_receptor.pdbqt')"
   ]
  },
  {
   "cell_type": "code",
   "execution_count": 11,
   "id": "3a6d601b",
   "metadata": {},
   "outputs": [],
   "source": [
    "v.set_ligand_from_file('pdbqt_files/1iep_ligand.pdbqt')"
   ]
  },
  {
   "cell_type": "code",
   "execution_count": 12,
   "id": "575ebf9f",
   "metadata": {},
   "outputs": [
    {
     "name": "stdout",
     "output_type": "stream",
     "text": [
      "Score before minimization: 0.000 (kcal/mol)\n",
      "Score after minimization : 0.000 (kcal/mol)\n",
      "Computing Vina grid ... done.\n",
      "Performing local search ... done.\n",
      "Performing docking (random seed: -573072596) ... \n",
      "0%   10   20   30   40   50   60   70   80   90   100%\n",
      "|----|----|----|----|----|----|----|----|----|----|\n",
      "***************************************************\n"
     ]
    },
    {
     "name": "stderr",
     "output_type": "stream",
     "text": [
      "WARNING: Search space volume is greater than 27000 Angstrom^3 (See FAQ)\n"
     ]
    }
   ],
   "source": [
    "v.compute_vina_maps(center=centroid, box_size=box_size)\n",
    "\n",
    "# Score the current pose\n",
    "energy = v.score()\n",
    "print('Score before minimization: %.3f (kcal/mol)' % energy[0])\n",
    "\n",
    "# Minimized locally the current pose\n",
    "energy_minimized = v.optimize()\n",
    "print('Score after minimization : %.3f (kcal/mol)' % energy_minimized[0])\n",
    "v.write_pose('1iep_ligand_minimized.pdbqt', overwrite=True)\n",
    "\n",
    "# Dock the ligand\n",
    "v.dock(exhaustiveness=8, n_poses=5)\n",
    "v.write_poses('pdbqt_files/1iep_ligand_vina_out.pdbqt', n_poses=5, overwrite=True)"
   ]
  },
  {
   "cell_type": "code",
   "execution_count": null,
   "id": "680ab491",
   "metadata": {},
   "outputs": [],
   "source": []
  }
 ],
 "metadata": {
  "kernelspec": {
   "display_name": "Python 3 (ipykernel)",
   "language": "python",
   "name": "python3"
  },
  "language_info": {
   "codemirror_mode": {
    "name": "ipython",
    "version": 3
   },
   "file_extension": ".py",
   "mimetype": "text/x-python",
   "name": "python",
   "nbconvert_exporter": "python",
   "pygments_lexer": "ipython3",
   "version": "3.9.7"
  }
 },
 "nbformat": 4,
 "nbformat_minor": 5
}
