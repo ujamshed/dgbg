{
 "cells": [
  {
   "cell_type": "markdown",
   "id": "4b88d19f",
   "metadata": {},
   "source": [
    "## This example should highlight using box_size and centroid from the library and then using autodock vina directly from jupyternotebook to get your results."
   ]
  },
  {
   "cell_type": "code",
   "execution_count": 30,
   "id": "da0f0c34",
   "metadata": {},
   "outputs": [],
   "source": [
    "from dbg import dbg\n",
    "import numpy as np"
   ]
  },
  {
   "cell_type": "code",
   "execution_count": 31,
   "id": "551c4425",
   "metadata": {},
   "outputs": [],
   "source": [
    "box = dbg.binding_box('pdb_files/1a52.pdb')"
   ]
  },
  {
   "cell_type": "code",
   "execution_count": 24,
   "id": "71aa5bb7",
   "metadata": {},
   "outputs": [],
   "source": [
    "ligand_data = box.get_ligand_data('EST', 'A')"
   ]
  },
  {
   "cell_type": "code",
   "execution_count": 25,
   "id": "5223ccc1",
   "metadata": {},
   "outputs": [],
   "source": [
    "centroid, box_size = box.create_box(spacing=0.375, padding=np.array([0, 0, 0]))"
   ]
  },
  {
   "cell_type": "code",
   "execution_count": 26,
   "id": "30a0252d",
   "metadata": {},
   "outputs": [
    {
     "data": {
      "text/plain": [
       "array([ 6., 23., 21.])"
      ]
     },
     "execution_count": 26,
     "metadata": {},
     "output_type": "execute_result"
    }
   ],
   "source": [
    "box_size"
   ]
  },
  {
   "cell_type": "code",
   "execution_count": 27,
   "id": "c6d06ff9",
   "metadata": {},
   "outputs": [
    {
     "data": {
      "text/plain": [
       "array([106.73025,  15.0231 ,  96.61565])"
      ]
     },
     "execution_count": 27,
     "metadata": {},
     "output_type": "execute_result"
    }
   ],
   "source": [
    "centroid"
   ]
  },
  {
   "cell_type": "code",
   "execution_count": 28,
   "id": "399ff712",
   "metadata": {},
   "outputs": [],
   "source": [
    "result = box.show_result(centroid, box_size)"
   ]
  },
  {
   "cell_type": "code",
   "execution_count": 29,
   "id": "dc1046a7",
   "metadata": {},
   "outputs": [
    {
     "data": {
      "application/vnd.jupyter.widget-view+json": {
       "model_id": "a8f8aef9d91c4f8bb3371840bf90d473",
       "version_major": 2,
       "version_minor": 0
      },
      "text/plain": [
       "NGLWidget()"
      ]
     },
     "metadata": {},
     "output_type": "display_data"
    }
   ],
   "source": [
    "result"
   ]
  }
 ],
 "metadata": {
  "kernelspec": {
   "display_name": "Python 3 (ipykernel)",
   "language": "python",
   "name": "python3"
  },
  "language_info": {
   "codemirror_mode": {
    "name": "ipython",
    "version": 3
   },
   "file_extension": ".py",
   "mimetype": "text/x-python",
   "name": "python",
   "nbconvert_exporter": "python",
   "pygments_lexer": "ipython3",
   "version": "3.9.7"
  }
 },
 "nbformat": 4,
 "nbformat_minor": 5
}
